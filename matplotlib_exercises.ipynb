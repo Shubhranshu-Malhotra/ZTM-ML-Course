{
  "nbformat": 4,
  "nbformat_minor": 0,
  "metadata": {
    "kernelspec": {
      "display_name": "Python 3",
      "language": "python",
      "name": "python3"
    },
    "language_info": {
      "codemirror_mode": {
        "name": "ipython",
        "version": 3
      },
      "file_extension": ".py",
      "mimetype": "text/x-python",
      "name": "python",
      "nbconvert_exporter": "python",
      "pygments_lexer": "ipython3",
      "version": "3.6.9"
    },
    "colab": {
      "name": "matplotlib-exercises.ipynb",
      "provenance": [],
      "collapsed_sections": [
        "a3db2I_VOODT"
      ],
      "toc_visible": true,
      "include_colab_link": true
    }
  },
  "cells": [
    {
      "cell_type": "markdown",
      "metadata": {
        "id": "view-in-github",
        "colab_type": "text"
      },
      "source": [
        "<a href=\"https://colab.research.google.com/github/Shubhranshu-Malhotra/ZTM-ML-Course/blob/main/matplotlib_exercises.ipynb\" target=\"_parent\"><img src=\"https://colab.research.google.com/assets/colab-badge.svg\" alt=\"Open In Colab\"/></a>"
      ]
    },
    {
      "cell_type": "markdown",
      "metadata": {
        "id": "QgNeyANOOOCA"
      },
      "source": [
        "# Matplotlib Practice\n",
        "\n",
        "This notebook offers a set of exercises to different tasks with Matplotlib.\n",
        "\n",
        "It should be noted there may be more than one different way to answer a question or complete an exercise.\n",
        "\n",
        "Different tasks will be detailed by comments or text.\n",
        "\n",
        "For further reference and resources, it's advised to check out the [Matplotlib documentation](https://matplotlib.org/3.1.1/contents.html).\n",
        "\n",
        "If you're stuck, don't forget, you can always search for a function, for example if you want to create a plot with `plt.subplots()`, search for [`plt.subplots()`](https://www.google.com/search?q=plt.subplots())."
      ]
    },
    {
      "cell_type": "code",
      "metadata": {
        "id": "5jMhE6_UOOCa"
      },
      "source": [
        "# Import the pyplot module from matplotlib as plt and make sure \n",
        "# plots appear in the notebook using '%matplotlib inline'\n",
        "import matplotlib.pyplot as plt\n",
        "import pandas as pd\n",
        "import numpy as np"
      ],
      "execution_count": 2,
      "outputs": []
    },
    {
      "cell_type": "code",
      "metadata": {
        "colab": {
          "base_uri": "https://localhost:8080/",
          "height": 283
        },
        "id": "Kkk6PP4YOOCd",
        "outputId": "9086ac11-f4fa-40d1-ec37-44577c98781f"
      },
      "source": [
        "# Create a simple plot using plt.plot()\n",
        "x = np.linspace(0,10,20)\n",
        "plt.plot(x)"
      ],
      "execution_count": 4,
      "outputs": [
        {
          "output_type": "execute_result",
          "data": {
            "text/plain": [
              "[<matplotlib.lines.Line2D at 0x7f4170b11f90>]"
            ]
          },
          "metadata": {
            "tags": []
          },
          "execution_count": 4
        },
        {
          "output_type": "display_data",
          "data": {
            "image/png": "[encoded data removed]",
            "text/plain": [
              "<Figure size 432x288 with 1 Axes>"
            ]
          },
          "metadata": {
            "tags": [],
            "needs_background": "light"
          }
        }
      ]
    },
    {
      "cell_type": "code",
      "metadata": {
        "id": "6ZSzOQb2OOCf"
      },
      "source": [
        "# Plot a single Python list\n"
      ],
      "execution_count": null,
      "outputs": []
    },
    {
      "cell_type": "code",
      "metadata": {
        "id": "mdn8gJDXOOCg"
      },
      "source": [
        "# Create two lists, one called X, one called y, each with 5 numbers in them\n",
        "X = [10,20,21,22,44]\n",
        "y = [111,333,222,555,666]"
      ],
      "execution_count": 5,
      "outputs": []
    },
    {
      "cell_type": "code",
      "metadata": {
        "colab": {
          "base_uri": "https://localhost:8080/",
          "height": 283
        },
        "id": "JAHZ10P8OOCi",
        "outputId": "44dab5ea-29c6-4cd9-990d-2cf9200710b9"
      },
      "source": [
        "# Plot X & y (the lists you've created)\n",
        "plt.plot(X,y)"
      ],
      "execution_count": 7,
      "outputs": [
        {
          "output_type": "execute_result",
          "data": {
            "text/plain": [
              "[<matplotlib.lines.Line2D at 0x7f416be1ed50>]"
            ]
          },
          "metadata": {
            "tags": []
          },
          "execution_count": 7
        },
        {
          "output_type": "display_data",
          "data": {
            "image/png": "[encoded data removed]",
            "text/plain": [
              "<Figure size 432x288 with 1 Axes>"
            ]
          },
          "metadata": {
            "tags": [],
            "needs_background": "light"
          }
        }
      ]
    },
    {
      "cell_type": "markdown",
      "metadata": {
        "id": "ThEaLMPdOOCj"
      },
      "source": [
        "There's another way to create plots with Matplotlib, it's known as the object-orientated (OO) method. Let's try it."
      ]
    },
    {
      "cell_type": "code",
      "metadata": {
        "colab": {
          "base_uri": "https://localhost:8080/",
          "height": 596
        },
        "id": "SrCl4hcaOOCk",
        "outputId": "5e561718-d74f-4a0a-f2e6-f17f8c1b5f37"
      },
      "source": [
        "# Create a plot using plt.subplots()\n",
        "fig, ax = plt.subplots(figsize = (10,10))"
      ],
      "execution_count": 10,
      "outputs": [
        {
          "output_type": "display_data",
          "data": {
            "image/png": "[encoded data removed]",
            "text/plain": [
              "<Figure size 720x720 with 1 Axes>"
            ]
          },
          "metadata": {
            "tags": [],
            "needs_background": "light"
          }
        }
      ]
    },
    {
      "cell_type": "code",
      "metadata": {
        "colab": {
          "base_uri": "https://localhost:8080/",
          "height": 609
        },
        "id": "wSb1-NOUOOCl",
        "outputId": "9e93f0a7-fdfa-4be0-a098-f3e7deff2326"
      },
      "source": [
        "# Create a plot using plt.subplots() and then add X & y on the axes\n",
        "fig, ax = plt.subplots(figsize = (10,10))\n",
        "ax.plot(X,y)"
      ],
      "execution_count": 11,
      "outputs": [
        {
          "output_type": "execute_result",
          "data": {
            "text/plain": [
              "[<matplotlib.lines.Line2D at 0x7f416b96a1d0>]"
            ]
          },
          "metadata": {
            "tags": []
          },
          "execution_count": 11
        },
        {
          "output_type": "display_data",
          "data": {
            "image/png": "[encoded data removed]",
            "text/plain": [
              "<Figure size 720x720 with 1 Axes>"
            ]
          },
          "metadata": {
            "tags": [],
            "needs_background": "light"
          }
        }
      ]
    },
    {
      "cell_type": "markdown",
      "metadata": {
        "id": "4d2Paw7eOOCn"
      },
      "source": [
        "Now let's try a small matplotlib workflow."
      ]
    },
    {
      "cell_type": "code",
      "metadata": {
        "id": "dyn_7sBPOOCo"
      },
      "source": [
        "# Import and get matplotlib ready\n",
        "\n",
        "\n",
        "# Prepare data (create two lists of 5 numbers, X & y)\n",
        "\n",
        "\n",
        "# Setup figure and axes using plt.subplots()\n",
        "\n",
        "\n",
        "# Add data (X, y) to axes\n",
        "\n",
        "\n",
        "# Customize plot by adding a title, xlabel and ylabel\n",
        "\n",
        "\n",
        "# Save the plot to file using fig.savefig()\n"
      ],
      "execution_count": null,
      "outputs": []
    },
    {
      "cell_type": "markdown",
      "metadata": {
        "id": "YNxd-cgEOOCp"
      },
      "source": [
        "Okay, this is a simple line plot, how about something a little different?\n",
        "\n",
        "To help us, we'll import NumPy."
      ]
    },
    {
      "cell_type": "code",
      "metadata": {
        "id": "be3_r8P0OOCq"
      },
      "source": [
        "# Import NumPy as np\n"
      ],
      "execution_count": null,
      "outputs": []
    },
    {
      "cell_type": "code",
      "metadata": {
        "id": "h6tAtyyuOOCr"
      },
      "source": [
        "# Create an array of 100 evenly spaced numbers between 0 and 100 using NumPy and save it to variable X\n"
      ],
      "execution_count": null,
      "outputs": []
    },
    {
      "cell_type": "code",
      "metadata": {
        "id": "iVh4wjTXOOCs"
      },
      "source": [
        "# Create a plot using plt.subplots() and plot X versus X^2 (X squared)\n"
      ],
      "execution_count": null,
      "outputs": []
    },
    {
      "cell_type": "markdown",
      "metadata": {
        "id": "08Hby23_OOCt"
      },
      "source": [
        "We'll start with scatter plots."
      ]
    },
    {
      "cell_type": "code",
      "metadata": {
        "colab": {
          "base_uri": "https://localhost:8080/",
          "height": 283
        },
        "id": "TMmIPCEdOOCu",
        "outputId": "176fe9ac-5265-44f6-d40c-c3b2627794d6"
      },
      "source": [
        "# Create a scatter plot of X versus the exponential of X (np.exp(X))\n",
        "x = np.linspace(0,10,20)\n",
        "plt.scatter(x, np.exp(x))"
      ],
      "execution_count": 15,
      "outputs": [
        {
          "output_type": "execute_result",
          "data": {
            "text/plain": [
              "<matplotlib.collections.PathCollection at 0x7f416b860450>"
            ]
          },
          "metadata": {
            "tags": []
          },
          "execution_count": 15
        },
        {
          "output_type": "display_data",
          "data": {
            "image/png": "[encoded data removed]",
            "text/plain": [
              "<Figure size 432x288 with 1 Axes>"
            ]
          },
          "metadata": {
            "tags": [],
            "needs_background": "light"
          }
        }
      ]
    },
    {
      "cell_type": "code",
      "metadata": {
        "colab": {
          "base_uri": "https://localhost:8080/",
          "height": 283
        },
        "id": "BL0zm0N9OOCv",
        "outputId": "3b09afc8-a4b9-46dd-e8f1-43cd70a00c5b"
      },
      "source": [
        "# Create a scatter plot of X versus np.sin(X)\n",
        "plt.scatter(x, np.sin(x))"
      ],
      "execution_count": 16,
      "outputs": [
        {
          "output_type": "execute_result",
          "data": {
            "text/plain": [
              "<matplotlib.collections.PathCollection at 0x7f416bb35050>"
            ]
          },
          "metadata": {
            "tags": []
          },
          "execution_count": 16
        },
        {
          "output_type": "display_data",
          "data": {
            "image/png": "[encoded data removed]",
            "text/plain": [
              "<Figure size 432x288 with 1 Axes>"
            ]
          },
          "metadata": {
            "tags": [],
            "needs_background": "light"
          }
        }
      ]
    },
    {
      "cell_type": "markdown",
      "metadata": {
        "id": "We9vSvuHOOCv"
      },
      "source": [
        "How about we try another type of plot? This time let's look at a bar plot. First we'll make some data."
      ]
    },
    {
      "cell_type": "code",
      "metadata": {
        "id": "0UaTCX4GOOCw"
      },
      "source": [
        "# Create a Python dictionary of 3 of your favourite foods with \n",
        "# The keys of the dictionary should be the food name and the values their price\n"
      ],
      "execution_count": null,
      "outputs": []
    },
    {
      "cell_type": "code",
      "metadata": {
        "id": "eEf-Yv4wOOCx"
      },
      "source": [
        "# Create a bar graph where the x-axis is the keys of the dictionary\n",
        "# and the y-axis is the values of the dictionary\n",
        "\n",
        "\n",
        "# Add a title, xlabel and ylabel to the plot\n"
      ],
      "execution_count": null,
      "outputs": []
    },
    {
      "cell_type": "code",
      "metadata": {
        "id": "fgBXxXWgOOCy"
      },
      "source": [
        "# Make the same plot as above, except this time make the bars go horizontal\n"
      ],
      "execution_count": null,
      "outputs": []
    },
    {
      "cell_type": "markdown",
      "metadata": {
        "id": "J2cE7IalOOCz"
      },
      "source": [
        "All this food plotting is making me hungry. But we've got a couple of plots to go.\n",
        "\n",
        "Let's see a histogram."
      ]
    },
    {
      "cell_type": "code",
      "metadata": {
        "id": "J3G1MAX1OOC0"
      },
      "source": [
        "# Create a random NumPy array of 1000 normally distributed numbers using NumPy and save it to X\n",
        "\n",
        "\n",
        "# Create a histogram plot of X\n"
      ],
      "execution_count": null,
      "outputs": []
    },
    {
      "cell_type": "code",
      "metadata": {
        "id": "FI3Njpx0OOC1"
      },
      "source": [
        "# Create a NumPy array of 1000 random numbers and save it to X\n",
        "\n",
        "\n",
        "# Create a histogram plot of X\n"
      ],
      "execution_count": null,
      "outputs": []
    },
    {
      "cell_type": "markdown",
      "metadata": {
        "id": "-Q4qEWhNOOC2"
      },
      "source": [
        "Notice how the distributions (spread of data) are different. Why do they differ? \n",
        "\n",
        "What else can you find out about the normal distribution? \n",
        "\n",
        "Can you think of any other kinds of data which may be normally distributed?\n",
        "\n",
        "These questions aren't directly related to plotting or Matplotlib but they're helpful to think of.\n",
        "\n",
        "Now let's try make some subplots. A subplot is another name for a figure with multiple plots on it."
      ]
    },
    {
      "cell_type": "code",
      "metadata": {
        "id": "DUOwRDxxOOC3"
      },
      "source": [
        "# Create an empty subplot with 2 rows and 2 columns (4 subplots total)\n"
      ],
      "execution_count": null,
      "outputs": []
    },
    {
      "cell_type": "markdown",
      "metadata": {
        "id": "JbE8hNUNOOC3"
      },
      "source": [
        "Notice how the subplot has multiple figures. Now let's add data to each axes."
      ]
    },
    {
      "cell_type": "code",
      "metadata": {
        "id": "siW_B-5SOOC4"
      },
      "source": [
        "# Create the same plot as above with 2 rows and 2 columns and figsize of (10, 5)\n",
        "\n",
        "\n",
        "# Plot X versus X/2 on the top left axes\n",
        "\n",
        "\n",
        "# Plot a scatter plot of 10 random numbers on each axis on the top right subplot\n",
        "\n",
        "\n",
        "# Plot a bar graph of the favourite food keys and values on the bottom left subplot\n",
        "\n",
        "\n",
        "# Plot a histogram of 1000 random normally distributed numbers on the bottom right subplot\n"
      ],
      "execution_count": null,
      "outputs": []
    },
    {
      "cell_type": "markdown",
      "metadata": {
        "id": "T0Lp22O7OOC5"
      },
      "source": [
        "Woah. There's a lot going on there.\n",
        "\n",
        "Now we've seen how to plot with Matplotlib and data directly. Let's practice using Matplotlib to plot with pandas.\n",
        "\n",
        "First we'll need to import pandas and create a DataFrame work with."
      ]
    },
    {
      "cell_type": "code",
      "metadata": {
        "id": "H8kVB-RWOOC6"
      },
      "source": [
        "# Import pandas as pd\n"
      ],
      "execution_count": null,
      "outputs": []
    },
    {
      "cell_type": "code",
      "metadata": {
        "id": "tBnEybhtOOC7"
      },
      "source": [
        "# Import the '../data/car-sales.csv' into a DataFame called car_sales and view\n"
      ],
      "execution_count": null,
      "outputs": []
    },
    {
      "cell_type": "code",
      "metadata": {
        "id": "praxpgZ7OOC8"
      },
      "source": [
        "# Try to plot the 'Price' column using the plot() function\n"
      ],
      "execution_count": null,
      "outputs": []
    },
    {
      "cell_type": "markdown",
      "metadata": {
        "id": "L4eodvaDOOC8"
      },
      "source": [
        "Why doesn't it work?\n",
        "\n",
        "Hint: It's not numeric data.\n",
        "\n",
        "In the process of turning it to numeric data, let's create another column which adds the total amount of sales and another one which shows what date the car was sold.\n",
        "\n",
        "Hint: To add a column up cumulatively, look up the cumsum() function. And to create a column of dates, look up the date_range() function."
      ]
    },
    {
      "cell_type": "code",
      "metadata": {
        "id": "W8g7HXASOOC9"
      },
      "source": [
        "# Remove the symbols, the final two numbers from the 'Price' column and convert it to numbers\n"
      ],
      "execution_count": null,
      "outputs": []
    },
    {
      "cell_type": "code",
      "metadata": {
        "id": "I6efuwgGOOC-"
      },
      "source": [
        "# Add a column called 'Total Sales' to car_sales which cumulatively adds the 'Price' column\n",
        "\n",
        "\n",
        "# Add a column called 'Sale Date' which lists a series of successive dates starting from today (your today)\n",
        "\n",
        "# View the car_sales DataFrame\n"
      ],
      "execution_count": null,
      "outputs": []
    },
    {
      "cell_type": "markdown",
      "metadata": {
        "id": "yd37z29COOC_"
      },
      "source": [
        "Now we've got a numeric column (`Total Sales`) and a dates column (`Sale Date`), let's visualize them."
      ]
    },
    {
      "cell_type": "code",
      "metadata": {
        "id": "UWQgUFRTOODA"
      },
      "source": [
        "# Use the plot() function to plot the 'Sale Date' column versus the 'Total Sales' column\n"
      ],
      "execution_count": null,
      "outputs": []
    },
    {
      "cell_type": "code",
      "metadata": {
        "id": "4QssvcmCOODA"
      },
      "source": [
        "# Convert the 'Price' column to the integers\n",
        "\n",
        "\n",
        "# Create a scatter plot of the 'Odometer (KM)' and 'Price' column using the plot() function\n"
      ],
      "execution_count": null,
      "outputs": []
    },
    {
      "cell_type": "code",
      "metadata": {
        "id": "ooN0EqbIOODB"
      },
      "source": [
        "# Create a NumPy array of random numbers of size (10, 4) and save it to X\n",
        "\n",
        "\n",
        "# Turn the NumPy array X into a DataFrame with columns called ['a', 'b', 'c', 'd']\n",
        "\n",
        "\n",
        "# Create a bar graph of the DataFrame\n"
      ],
      "execution_count": null,
      "outputs": []
    },
    {
      "cell_type": "code",
      "metadata": {
        "id": "HxH8H8UEOODC"
      },
      "source": [
        "# Create a bar graph of the 'Make' and 'Odometer (KM)' columns in the car_sales DataFrame\n"
      ],
      "execution_count": null,
      "outputs": []
    },
    {
      "cell_type": "code",
      "metadata": {
        "id": "hJ4OCCtEOODD"
      },
      "source": [
        "# Create a histogram of the 'Odometer (KM)' column\n"
      ],
      "execution_count": null,
      "outputs": []
    },
    {
      "cell_type": "code",
      "metadata": {
        "id": "SpSA-4n7OODD"
      },
      "source": [
        "# Create a histogram of the 'Price' column with 20 bins\n"
      ],
      "execution_count": null,
      "outputs": []
    },
    {
      "cell_type": "markdown",
      "metadata": {
        "id": "N5T30BLQOODG"
      },
      "source": [
        "Now we've seen a few examples of plotting directly from DataFrames using the `car_sales` dataset.\n",
        "\n",
        "Let's try using a different dataset."
      ]
    },
    {
      "cell_type": "code",
      "metadata": {
        "id": "10trwfUWOODH"
      },
      "source": [
        "# Import \"../data/heart-disease.csv\" and save it to the variable \"heart_disease\"\n",
        "heart_disease = pd.read_csv('/content/drive/MyDrive/Datasets/ZTM_ML_Course/heart-disease.csv')"
      ],
      "execution_count": 18,
      "outputs": []
    },
    {
      "cell_type": "code",
      "metadata": {
        "colab": {
          "base_uri": "https://localhost:8080/",
          "height": 355
        },
        "id": "o9JGL1jDOODI",
        "outputId": "08c569da-7a43-4fbc-bc16-83cd34129b54"
      },
      "source": [
        "# View the first 10 rows of the heart_disease DataFrame\n",
        "heart_disease[:10]"
      ],
      "execution_count": 19,
      "outputs": [
        {
          "output_type": "execute_result",
          "data": {
            "text/html": [
              "<div>\n",
              "<style scoped>\n",
              "    .dataframe tbody tr th:only-of-type {\n",
              "        vertical-align: middle;\n",
              "    }\n",
              "\n",
              "    .dataframe tbody tr th {\n",
              "        vertical-align: top;\n",
              "    }\n",
              "\n",
              "    .dataframe thead th {\n",
              "        text-align: right;\n",
              "    }\n",
              "</style>\n",
              "<table border=\"1\" class=\"dataframe\">\n",
              "  <thead>\n",
              "    <tr style=\"text-align: right;\">\n",
              "      <th></th>\n",
              "      <th>age</th>\n",
              "      <th>sex</th>\n",
              "      <th>cp</th>\n",
              "      <th>trestbps</th>\n",
              "      <th>chol</th>\n",
              "      <th>fbs</th>\n",
              "      <th>restecg</th>\n",
              "      <th>thalach</th>\n",
              "      <th>exang</th>\n",
              "      <th>oldpeak</th>\n",
              "      <th>slope</th>\n",
              "      <th>ca</th>\n",
              "      <th>thal</th>\n",
              "      <th>target</th>\n",
              "    </tr>\n",
              "  </thead>\n",
              "  <tbody>\n",
              "    <tr>\n",
              "      <th>0</th>\n",
              "      <td>63</td>\n",
              "      <td>1</td>\n",
              "      <td>3</td>\n",
              "      <td>145</td>\n",
              "      <td>233</td>\n",
              "      <td>1</td>\n",
              "      <td>0</td>\n",
              "      <td>150</td>\n",
              "      <td>0</td>\n",
              "      <td>2.3</td>\n",
              "      <td>0</td>\n",
              "      <td>0</td>\n",
              "      <td>1</td>\n",
              "      <td>1</td>\n",
              "    </tr>\n",
              "    <tr>\n",
              "      <th>1</th>\n",
              "      <td>37</td>\n",
              "      <td>1</td>\n",
              "      <td>2</td>\n",
              "      <td>130</td>\n",
              "      <td>250</td>\n",
              "      <td>0</td>\n",
              "      <td>1</td>\n",
              "      <td>187</td>\n",
              "      <td>0</td>\n",
              "      <td>3.5</td>\n",
              "      <td>0</td>\n",
              "      <td>0</td>\n",
              "      <td>2</td>\n",
              "      <td>1</td>\n",
              "    </tr>\n",
              "    <tr>\n",
              "      <th>2</th>\n",
              "      <td>41</td>\n",
              "      <td>0</td>\n",
              "      <td>1</td>\n",
              "      <td>130</td>\n",
              "      <td>204</td>\n",
              "      <td>0</td>\n",
              "      <td>0</td>\n",
              "      <td>172</td>\n",
              "      <td>0</td>\n",
              "      <td>1.4</td>\n",
              "      <td>2</td>\n",
              "      <td>0</td>\n",
              "      <td>2</td>\n",
              "      <td>1</td>\n",
              "    </tr>\n",
              "    <tr>\n",
              "      <th>3</th>\n",
              "      <td>56</td>\n",
              "      <td>1</td>\n",
              "      <td>1</td>\n",
              "      <td>120</td>\n",
              "      <td>236</td>\n",
              "      <td>0</td>\n",
              "      <td>1</td>\n",
              "      <td>178</td>\n",
              "      <td>0</td>\n",
              "      <td>0.8</td>\n",
              "      <td>2</td>\n",
              "      <td>0</td>\n",
              "      <td>2</td>\n",
              "      <td>1</td>\n",
              "    </tr>\n",
              "    <tr>\n",
              "      <th>4</th>\n",
              "      <td>57</td>\n",
              "      <td>0</td>\n",
              "      <td>0</td>\n",
              "      <td>120</td>\n",
              "      <td>354</td>\n",
              "      <td>0</td>\n",
              "      <td>1</td>\n",
              "      <td>163</td>\n",
              "      <td>1</td>\n",
              "      <td>0.6</td>\n",
              "      <td>2</td>\n",
              "      <td>0</td>\n",
              "      <td>2</td>\n",
              "      <td>1</td>\n",
              "    </tr>\n",
              "    <tr>\n",
              "      <th>5</th>\n",
              "      <td>57</td>\n",
              "      <td>1</td>\n",
              "      <td>0</td>\n",
              "      <td>140</td>\n",
              "      <td>192</td>\n",
              "      <td>0</td>\n",
              "      <td>1</td>\n",
              "      <td>148</td>\n",
              "      <td>0</td>\n",
              "      <td>0.4</td>\n",
              "      <td>1</td>\n",
              "      <td>0</td>\n",
              "      <td>1</td>\n",
              "      <td>1</td>\n",
              "    </tr>\n",
              "    <tr>\n",
              "      <th>6</th>\n",
              "      <td>56</td>\n",
              "      <td>0</td>\n",
              "      <td>1</td>\n",
              "      <td>140</td>\n",
              "      <td>294</td>\n",
              "      <td>0</td>\n",
              "      <td>0</td>\n",
              "      <td>153</td>\n",
              "      <td>0</td>\n",
              "      <td>1.3</td>\n",
              "      <td>1</td>\n",
              "      <td>0</td>\n",
              "      <td>2</td>\n",
              "      <td>1</td>\n",
              "    </tr>\n",
              "    <tr>\n",
              "      <th>7</th>\n",
              "      <td>44</td>\n",
              "      <td>1</td>\n",
              "      <td>1</td>\n",
              "      <td>120</td>\n",
              "      <td>263</td>\n",
              "      <td>0</td>\n",
              "      <td>1</td>\n",
              "      <td>173</td>\n",
              "      <td>0</td>\n",
              "      <td>0.0</td>\n",
              "      <td>2</td>\n",
              "      <td>0</td>\n",
              "      <td>3</td>\n",
              "      <td>1</td>\n",
              "    </tr>\n",
              "    <tr>\n",
              "      <th>8</th>\n",
              "      <td>52</td>\n",
              "      <td>1</td>\n",
              "      <td>2</td>\n",
              "      <td>172</td>\n",
              "      <td>199</td>\n",
              "      <td>1</td>\n",
              "      <td>1</td>\n",
              "      <td>162</td>\n",
              "      <td>0</td>\n",
              "      <td>0.5</td>\n",
              "      <td>2</td>\n",
              "      <td>0</td>\n",
              "      <td>3</td>\n",
              "      <td>1</td>\n",
              "    </tr>\n",
              "    <tr>\n",
              "      <th>9</th>\n",
              "      <td>57</td>\n",
              "      <td>1</td>\n",
              "      <td>2</td>\n",
              "      <td>150</td>\n",
              "      <td>168</td>\n",
              "      <td>0</td>\n",
              "      <td>1</td>\n",
              "      <td>174</td>\n",
              "      <td>0</td>\n",
              "      <td>1.6</td>\n",
              "      <td>2</td>\n",
              "      <td>0</td>\n",
              "      <td>2</td>\n",
              "      <td>1</td>\n",
              "    </tr>\n",
              "  </tbody>\n",
              "</table>\n",
              "</div>"
            ],
            "text/plain": [
              "   age  sex  cp  trestbps  chol  fbs  ...  exang  oldpeak  slope  ca  thal  target\n",
              "0   63    1   3       145   233    1  ...      0      2.3      0   0     1       1\n",
              "1   37    1   2       130   250    0  ...      0      3.5      0   0     2       1\n",
              "2   41    0   1       130   204    0  ...      0      1.4      2   0     2       1\n",
              "3   56    1   1       120   236    0  ...      0      0.8      2   0     2       1\n",
              "4   57    0   0       120   354    0  ...      1      0.6      2   0     2       1\n",
              "5   57    1   0       140   192    0  ...      0      0.4      1   0     1       1\n",
              "6   56    0   1       140   294    0  ...      0      1.3      1   0     2       1\n",
              "7   44    1   1       120   263    0  ...      0      0.0      2   0     3       1\n",
              "8   52    1   2       172   199    1  ...      0      0.5      2   0     3       1\n",
              "9   57    1   2       150   168    0  ...      0      1.6      2   0     2       1\n",
              "\n",
              "[10 rows x 14 columns]"
            ]
          },
          "metadata": {
            "tags": []
          },
          "execution_count": 19
        }
      ]
    },
    {
      "cell_type": "code",
      "metadata": {
        "colab": {
          "base_uri": "https://localhost:8080/",
          "height": 283
        },
        "id": "u5IYjdZjOODJ",
        "outputId": "81e776f3-850f-42fc-8ad3-f54453b79b99"
      },
      "source": [
        "# Create a histogram of the \"age\" column with 50 bins\n",
        "heart_disease['age'].hist(bins = 50)"
      ],
      "execution_count": 21,
      "outputs": [
        {
          "output_type": "execute_result",
          "data": {
            "text/plain": [
              "<matplotlib.axes._subplots.AxesSubplot at 0x7f416bd86250>"
            ]
          },
          "metadata": {
            "tags": []
          },
          "execution_count": 21
        },
        {
          "output_type": "display_data",
          "data": {
            "image/png": "[encoded data removed]",
            "text/plain": [
              "<Figure size 432x288 with 1 Axes>"
            ]
          },
          "metadata": {
            "tags": [],
            "needs_background": "light"
          }
        }
      ]
    },
    {
      "cell_type": "code",
      "metadata": {
        "colab": {
          "base_uri": "https://localhost:8080/",
          "height": 601
        },
        "id": "Bqh5Oot2OODJ",
        "outputId": "e6eaf084-4538-441a-ef7c-5c5e2cb4a34c"
      },
      "source": [
        "# Call plot.hist() on the heart_disease DataFrame and toggle the\n",
        "# \"subplots\" parameter to True\n",
        "\n",
        "heart_disease.plot.hist(figsize=(10,10),subplots = True);"
      ],
      "execution_count": 37,
      "outputs": [
        {
          "output_type": "display_data",
          "data": {
            "image/png": "[encoded data removed]",
            "text/plain": [
              "<Figure size 720x720 with 14 Axes>"
            ]
          },
          "metadata": {
            "tags": [],
            "needs_background": "light"
          }
        }
      ]
    },
    {
      "cell_type": "code",
      "metadata": {
        "colab": {
          "base_uri": "https://localhost:8080/",
          "height": 607
        },
        "id": "seF-BfAHYVu7",
        "outputId": "db66152f-d822-4e88-c17d-40de89b14864"
      },
      "source": [
        "\r\n",
        "heart_disease.hist(figsize=(10,10));"
      ],
      "execution_count": 36,
      "outputs": [
        {
          "output_type": "display_data",
          "data": {
            "image/png": "[encoded data removed]",
            "text/plain": [
              "<Figure size 720x720 with 16 Axes>"
            ]
          },
          "metadata": {
            "tags": [],
            "needs_background": "light"
          }
        }
      ]
    },
    {
      "cell_type": "markdown",
      "metadata": {
        "id": "qcDZ02LLOODK"
      },
      "source": [
        "That plot looks pretty squished. Let's change the figsize."
      ]
    },
    {
      "cell_type": "code",
      "metadata": {
        "id": "CX7hVQ1qOODL"
      },
      "source": [
        "# Call the same line of code from above except change the \"figsize\" parameter\n",
        "# to be (10, 30)\n"
      ],
      "execution_count": null,
      "outputs": []
    },
    {
      "cell_type": "markdown",
      "metadata": {
        "id": "Zykm_TNGOODM"
      },
      "source": [
        "Now let's try comparing two variables versus the target variable.\n",
        "\n",
        "More specifially we'll see how age and cholesterol combined effect the target in **patients over 50 years old**.\n",
        "\n",
        "For this next challenge, we're going to be replicating the following plot:\n",
        "\n",
        "<img src=\"../images/matplotlib-heart-disease-chol-age-plot.png\"/>"
      ]
    },
    {
      "cell_type": "code",
      "metadata": {
        "colab": {
          "base_uri": "https://localhost:8080/",
          "height": 404
        },
        "id": "STGLXyZDOODM",
        "outputId": "13f05506-58f7-409b-deea-c7958a9b09e7"
      },
      "source": [
        "# Replicate the above plot in whichever way you see fit\n",
        "\n",
        "# Note: The method below is only one way of doing it, yours might be\n",
        "# slightly different\n",
        "\n",
        "# Create DataFrame with patients over 50 years old\n",
        "above_50 = heart_disease[heart_disease['age']>50]\n",
        "\n",
        "# Create the plot\n",
        "fig, ax = plt.subplots(figsize = (10,6))\n",
        "\n",
        "# Plot the data\n",
        "scatter = ax.scatter(x = above_50['age'],\n",
        "           y = above_50['chol'],\n",
        "           c = above_50['target'],\n",
        "           cmap ='winter')\n",
        "\n",
        "# Customize the plot\n",
        "ax.set(title = 'age vs Cholestrol',\n",
        "       xlabel = 'age',\n",
        "       ylabel = 'cholestrol'\n",
        "       )\n",
        "# ax.legend(*scatter.legend_elements(), title='target')\n",
        "ax.legend(*scatter.legend_elements(), title=\"Target\")\n",
        "# Add a meanline\n",
        "ax.axhline(above_50[\"chol\"].mean(),\n",
        "           linestyle=\"--\",\n",
        "           color=\"red\");\n",
        "\n"
      ],
      "execution_count": 54,
      "outputs": [
        {
          "output_type": "display_data",
          "data": {
            "image/png": "[encoded data removed]",
            "text/plain": [
              "<Figure size 720x432 with 1 Axes>"
            ]
          },
          "metadata": {
            "tags": [],
            "needs_background": "light"
          }
        }
      ]
    },
    {
      "cell_type": "markdown",
      "metadata": {
        "id": "w1uG5mXHOODN"
      },
      "source": [
        "Beatiful, now you've created a plot of two different variables, let's change the style."
      ]
    },
    {
      "cell_type": "code",
      "metadata": {
        "id": "N6vvnzKiOODO"
      },
      "source": [
        "# Check what styles are available under plt\n"
      ],
      "execution_count": null,
      "outputs": []
    },
    {
      "cell_type": "code",
      "metadata": {
        "id": "nY7TEZ6JOODP"
      },
      "source": [
        "# Change the style to use \"seaborn-whitegrid\"\n"
      ],
      "execution_count": null,
      "outputs": []
    },
    {
      "cell_type": "markdown",
      "metadata": {
        "id": "kKutBgCZOODQ"
      },
      "source": [
        "Now the style has been changed, we'll replot the same figure from above and see what it looks like.\n",
        "\n",
        "If you've changed the style correctly, it should look like the following:\n",
        "<img src=\"../images/matplotlib-heart-disease-chol-age-plot-seaborn-whitegrid.png\"/>\n"
      ]
    },
    {
      "cell_type": "code",
      "metadata": {
        "id": "gaks0LsgOODR"
      },
      "source": [
        "# Reproduce the same figure as above with the \"seaborn-whitegrid\" style\n",
        "\n",
        "# Create the plot\n",
        "\n",
        "\n",
        "# Plot the data\n",
        "\n",
        "\n",
        "# Customize the plot\n",
        "\n",
        "\n",
        "# Add a meanline\n"
      ],
      "execution_count": null,
      "outputs": []
    },
    {
      "cell_type": "markdown",
      "metadata": {
        "id": "Aa0o_5iwOODR"
      },
      "source": [
        "Wonderful, you've changed the style of the plots and the figure is looking different but the dots aren't a very good colour.\n",
        "\n",
        "Let's change the `cmap` parameter of `scatter()` as well as the `color` parameter of `axhline()` to fix it.\n",
        "\n",
        "Completing this step correctly should result in a figure which looks like this:\n",
        "<img src=\"../images/matplotlib-heart-disease-chol-age-plot-cmap-change.png\"/>"
      ]
    },
    {
      "cell_type": "code",
      "metadata": {
        "id": "86P1cvPOOODS"
      },
      "source": [
        "# Replot the same figure as above except change the \"cmap\" parameter\n",
        "# of scatter() to \"winter\"\n",
        "# Also change the \"color\" parameter of axhline() to \"red\"\n",
        "\n",
        "# Create the plot\n",
        "\n",
        "\n",
        "# Plot the data\n",
        "\n",
        "\n",
        "# Customize the plot\n",
        "\n",
        "\n",
        "# Add a meanline\n"
      ],
      "execution_count": null,
      "outputs": []
    },
    {
      "cell_type": "markdown",
      "metadata": {
        "id": "WB-_hJydOODS"
      },
      "source": [
        "Beautiful! Now our figure has an upgraded color scheme let's save it to file."
      ]
    },
    {
      "cell_type": "code",
      "metadata": {
        "id": "34jj63MWOODT"
      },
      "source": [
        "# Save the current figure using savefig(), the file name can be anything you want\n"
      ],
      "execution_count": null,
      "outputs": []
    },
    {
      "cell_type": "code",
      "metadata": {
        "id": "T8jhbSN3OODT"
      },
      "source": [
        "# Reset the figure by calling plt.subplots()\n"
      ],
      "execution_count": null,
      "outputs": []
    },
    {
      "cell_type": "markdown",
      "metadata": {
        "id": "a3db2I_VOODT"
      },
      "source": [
        "## Extensions\n",
        "\n",
        "For more exercises, check out the [Matplotlib tutorials page](https://matplotlib.org/3.1.1/tutorials/index.html). A good practice would be to read through it and for the parts you find interesting, add them into the end of this notebook.\n",
        "\n",
        "The next place you could go is the [Stack Overflow page for the top questions and answers for Matplotlib](https://stackoverflow.com/questions/tagged/matplotlib?sort=MostVotes&edited=true). Often, you'll find some of the most common and useful Matplotlib functions here. Don't forget to play around with the Stack Overflow filters! You'll likely find something helpful here.\n",
        "\n",
        "Finally, as always, remember, the best way to learn something new is to try it. And try it relentlessly. Always be asking yourself, \"is there a better way this data could be visualized so it's easier to understand?\""
      ]
    }
  ]
}